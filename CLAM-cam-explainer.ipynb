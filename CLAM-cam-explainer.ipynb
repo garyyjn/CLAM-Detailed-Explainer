{
 "cells": [
  {
   "cell_type": "code",
   "execution_count": 1,
   "id": "99a3d460-d80b-4cdc-be04-9f16afffcb83",
   "metadata": {},
   "outputs": [],
   "source": [
    "import torch"
   ]
  },
  {
   "cell_type": "code",
   "execution_count": 2,
   "id": "da3fe69f-1597-4085-9307-09b80f3fc4e5",
   "metadata": {},
   "outputs": [
    {
     "name": "stdout",
     "output_type": "stream",
     "text": [
      "/home/ext_yao_gary_mayo_edu/CLAM\n"
     ]
    }
   ],
   "source": [
    "%cd '/home/ext_yao_gary_mayo_edu/CLAM'"
   ]
  },
  {
   "cell_type": "code",
   "execution_count": 24,
   "id": "89871cb7-7e8c-4e82-81fe-6cd3aad637fc",
   "metadata": {},
   "outputs": [],
   "source": [
    "from models.model_clam import CLAM_MB\n",
    "import torch\n",
    "import os\n",
    "import h5py\n",
    "from torch.autograd import grad\n",
    "import openslide\n",
    "from datasets.dataset_h5 import eval_transforms\n",
    "from models.resnet_custom import resnet50_baseline\n",
    "from torchvision import transforms, utils, models\n",
    "import numpy as np\n",
    "import matplotlib.pyplot as plt\n",
    "import cv2"
   ]
  },
  {
   "cell_type": "code",
   "execution_count": 4,
   "id": "ef82cabe-9fa0-4b5c-8169-3742b395bb8c",
   "metadata": {},
   "outputs": [],
   "source": [
    "model = torch.load('/home/jupyter/ash_saves/ash_epoch_res19.save').cpu()"
   ]
  },
  {
   "cell_type": "code",
   "execution_count": 5,
   "id": "199229af-b98b-43c6-a5d7-bd26f1dd726f",
   "metadata": {},
   "outputs": [],
   "source": [
    "resnet = resnet50_baseline()"
   ]
  },
  {
   "cell_type": "code",
   "execution_count": 6,
   "id": "d7fe0ba1-8fb3-4c96-9688-92eefb885edf",
   "metadata": {},
   "outputs": [],
   "source": [
    "current_features_path = '/home/ext_yao_gary_mayo_edu/post_process/duodenum_2/20x_features/h5_files/10515437_XR17-663 B1-1_1-9-2017_HE.h5'"
   ]
  },
  {
   "cell_type": "code",
   "execution_count": 7,
   "id": "a0fd0169-6767-4f52-ad77-999b656661bf",
   "metadata": {},
   "outputs": [],
   "source": [
    "with h5py.File(current_features_path, 'r') as hdf5_file:\n",
    "                features = hdf5_file['features'][:]\n",
    "                coords = hdf5_file['coords'][:]\n",
    "\n",
    "mean = (0.485, 0.456, 0.406)\n",
    "std = (0.229, 0.224, 0.225)\n",
    "\n",
    "toTensor = transforms.ToTensor()\n",
    "normalize = transforms.Normalize(mean = mean, std = std)"
   ]
  },
  {
   "cell_type": "code",
   "execution_count": 66,
   "id": "95831a40-d108-436d-a95d-7f01221ed13a",
   "metadata": {},
   "outputs": [],
   "source": [
    "def explain(resnet, model, slide_name, target_idx, features_dir, slide_dir, target_label = 0, full_pipeline = False):\n",
    "    #load features\n",
    "    target_features_path = os.path.join(features_dir,\n",
    "                                '{}.h5'.format(slide_name))\n",
    "    with h5py.File(target_features_path, 'r') as hdf5_file:\n",
    "                features = hdf5_file['features'][:]\n",
    "                coords = hdf5_file['coords'][:]\n",
    "    features = torch.from_numpy(features).cuda()\n",
    "    \n",
    "    #grab targeted tile from wsi\n",
    "    target_coords = coords[target_idx]\n",
    "    target_coords_x, target_coords_y = target_coords\n",
    "    print(target_coords_x, target_coords_y)\n",
    "    target_slide_path = os.path.join(slide_dir,'{}.svs'.format(slide_name))\n",
    "    wsi = openslide.open_slide(target_slide_path)\n",
    "    target_tile = wsi.read_region((target_coords_x, target_coords_y), 0, (512,512)).convert('RGB')\n",
    "    #display(target_tile)\n",
    "    target_tile = toTensor(target_tile)\n",
    "    target_tile = normalize(target_tile).unsqueeze(0)\n",
    "    #pass image through resnet\n",
    "    \n",
    "    y = resnet(target_tile)\n",
    "    \n",
    "    #replace target feature and pass through model, if needed\n",
    "    if not full_pipeline:\n",
    "        l,y,y1,a,r  = model(y)\n",
    "        print(l.shape)\n",
    "    \n",
    "    #back prop and grab target gradient\n",
    "    loss_metric = torch.nn.CrossEntropyLoss()\n",
    "    \n",
    "    target_label = torch.Tensor([target_label]).long()\n",
    "    loss = loss_metric(y, target_label)\n",
    "    loss.backward()\n",
    "    \n",
    "    gradients = resnet.grad\n",
    "    #print(grad.shape)\n",
    "    \n",
    "    activations = resnet.get_activation(target_tile).detach()\n",
    "    #print(activation.shape)\n",
    "    #generate explaination heatmap\n",
    "    \n",
    "\n",
    "    pooled_gradients = torch.mean(gradients, dim=[0, 2, 3])\n",
    "\n",
    "\n",
    "    for i in range(512):\n",
    "        activations[:, i, :, :] *= pooled_gradients[i]\n",
    "\n",
    "    heatmap = torch.mean(activations, dim=1).squeeze()\n",
    "\n",
    "    heatmap = np.maximum(heatmap, 0)\n",
    "\n",
    "    heatmap /= torch.max(heatmap)\n",
    "\n",
    "    heatmap.squeeze()\n",
    "    img = wsi.read_region((target_coords_x, target_coords_y), 0, (512,512)).convert('RGB')\n",
    "    img = np.array(img)\n",
    "    print(img.shape)\n",
    "    heatmap = cv2.resize(np.float32(heatmap), (img.shape[1], img.shape[0]))\n",
    "    heatmap = np.uint8(255 * heatmap)\n",
    "    heatmap = cv2.applyColorMap(heatmap, cv2.COLORMAP_JET)\n",
    "    superimposed_img = .4 * heatmap + .6 * img\n",
    "    cv2.imwrite('/home/jupyter/map.jpg', superimposed_img)"
   ]
  },
  {
   "cell_type": "markdown",
   "id": "599fbec2-0a88-453b-b2d9-44ab1ed475d2",
   "metadata": {},
   "source": [
    "#### slide_name = 'XR12-27403_A'\n",
    "target_idx = 7\n",
    "slides_dir = '/home/ext_yao_gary_mayo_edu/datasets/duodenum/full/'\n",
    "features_dir = '/home/ext_yao_gary_mayo_edu/post_process/duodenum_2/20x_features/h5_files/'\n",
    "\n",
    "explain(resnet, model, slide_name, target_idx, features_dir, slides_dir, target_label = 0)"
   ]
  }
 ],
 "metadata": {
  "environment": {
   "kernel": "python3",
   "name": "pytorch-gpu.1-10.m84",
   "type": "gcloud",
   "uri": "gcr.io/deeplearning-platform-release/pytorch-gpu.1-10:m84"
  },
  "kernelspec": {
   "display_name": "Python 3",
   "language": "python",
   "name": "python3"
  },
  "language_info": {
   "codemirror_mode": {
    "name": "ipython",
    "version": 3
   },
   "file_extension": ".py",
   "mimetype": "text/x-python",
   "name": "python",
   "nbconvert_exporter": "python",
   "pygments_lexer": "ipython3",
   "version": "3.7.12"
  }
 },
 "nbformat": 4,
 "nbformat_minor": 5
}
